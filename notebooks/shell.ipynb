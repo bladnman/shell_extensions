{
    "cells": [
        {
            "cell_type": "code",
            "execution_count": 7,
            "source": [
                "%%bash\n",
                "\n",
                "echo \"you got me!\"\n"
            ],
            "outputs": [
                {
                    "output_type": "stream",
                    "name": "stdout",
                    "text": [
                        "you got me!\n"
                    ]
                }
            ],
            "metadata": {}
        },
        {
            "cell_type": "code",
            "execution_count": 16,
            "source": [
                "%%bash\n",
                "file_path=\"/opt/datastores/sda2/test.old.img\"\n",
                "# echo \"$file_path\" | sed \"s/.*\\///\"\n",
                "file_name=$(basename $file_path)\n",
                "directory=$(dirname $file_path)\n",
                "\n",
                "echo $directory\n",
                "echo $file_name\n"
            ],
            "outputs": [
                {
                    "output_type": "stream",
                    "name": "stdout",
                    "text": [
                        "/opt/datastores/sda2\n",
                        "test.old.img\n"
                    ]
                }
            ],
            "metadata": {}
        },
        {
            "cell_type": "markdown",
            "source": [],
            "metadata": {}
        }
    ],
    "metadata": {
        "orig_nbformat": 4,
        "language_info": {
            "name": "python",
            "version": "3.9.6",
            "mimetype": "text/x-python",
            "codemirror_mode": {
                "name": "ipython",
                "version": 3
            },
            "pygments_lexer": "ipython3",
            "nbconvert_exporter": "python",
            "file_extension": ".py"
        },
        "kernelspec": {
            "name": "python3",
            "display_name": "Python 3.9.6 64-bit ('3.9.6': pyenv)"
        },
        "interpreter": {
            "hash": "127cc5fda238d616a66bb29bf6ec45e503d8d1829c6e638559e762add2890517"
        }
    },
    "nbformat": 4,
    "nbformat_minor": 2
}